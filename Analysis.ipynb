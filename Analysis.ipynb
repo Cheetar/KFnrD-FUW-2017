{
 "cells": [
  {
   "cell_type": "markdown",
   "metadata": {},
   "source": [
    "# Rozwiązania zadań na warsztaty badawcze Krajowego Funduszu na rzecz Dzieci na Wydziale Fizyki UW \n",
    "## Mateusz Sieniawski"
   ]
  },
  {
   "cell_type": "markdown",
   "metadata": {},
   "source": [
    "Dla n=1 oraz n>=4 problem ma conajmniej jedno rozwiązanie. "
   ]
  },
  {
   "cell_type": "code",
   "execution_count": 2,
   "metadata": {
    "collapsed": false
   },
   "outputs": [],
   "source": [
    "from n_queens import NQueensProblem"
   ]
  },
  {
   "cell_type": "code",
   "execution_count": 3,
   "metadata": {
    "collapsed": false
   },
   "outputs": [
    {
     "data": {
      "text/plain": [
       "False"
      ]
     },
     "execution_count": 3,
     "metadata": {},
     "output_type": "execute_result"
    }
   ],
   "source": [
    "q = NQueensProblem(3)\n",
    "q.is_solvable()"
   ]
  },
  {
   "cell_type": "code",
   "execution_count": 4,
   "metadata": {
    "collapsed": false
   },
   "outputs": [
    {
     "name": "stdout",
     "output_type": "stream",
     "text": [
      "-------Q\n",
      "---Q----\n",
      "Q-------\n",
      "--Q-----\n",
      "-----Q--\n",
      "-Q------\n",
      "------Q-\n",
      "----Q---\n"
     ]
    }
   ],
   "source": [
    "p = NQueensProblem(8)\n",
    "p.solve()"
   ]
  },
  {
   "cell_type": "code",
   "execution_count": 5,
   "metadata": {
    "collapsed": false
   },
   "outputs": [
    {
     "name": "stdout",
     "output_type": "stream",
     "text": [
      "Number of all solutions: 92\n",
      "Number of unique solutions: 12\n"
     ]
    }
   ],
   "source": [
    "print \"Number of all solutions: \" + str(len(p.get_all_solutions()))\n",
    "print \"Number of unique solutions: \" + str(len(p.get_all_unique_solutions()))"
   ]
  },
  {
   "cell_type": "code",
   "execution_count": 6,
   "metadata": {
    "collapsed": false
   },
   "outputs": [
    {
     "name": "stdout",
     "output_type": "stream",
     "text": [
      "Number of cnf clauses: 744\n"
     ]
    }
   ],
   "source": [
    "print \"Number of cnf clauses: \" + str(len(p.get_cnf()))"
   ]
  },
  {
   "cell_type": "raw",
   "metadata": {},
   "source": [
    "A teraz trochę wykresów"
   ]
  },
  {
   "cell_type": "code",
   "execution_count": 7,
   "metadata": {
    "collapsed": false
   },
   "outputs": [],
   "source": [
    "from matplotlib import pyplot as plt"
   ]
  },
  {
   "cell_type": "code",
   "execution_count": 8,
   "metadata": {
    "collapsed": false
   },
   "outputs": [],
   "source": [
    "ns = range(4, 13)\n",
    "solutions = []\n",
    "unique_solutions = []\n",
    "cnfs = []\n",
    "for n in ns:\n",
    "    p = NQueensProblem(n)\n",
    "    solutions.append(len(p.get_all_solutions()))\n",
    "    unique_solutions.append(len(p.get_all_unique_solutions()))\n",
    "    cnfs.append(len(p.get_cnf()))"
   ]
  },
  {
   "cell_type": "code",
   "execution_count": 9,
   "metadata": {
    "collapsed": false
   },
   "outputs": [
    {
     "data": {
      "text/plain": [
       "[4, 5, 6, 7, 8, 9, 10, 11, 12]"
      ]
     },
     "execution_count": 9,
     "metadata": {},
     "output_type": "execute_result"
    }
   ],
   "source": [
    "ns"
   ]
  },
  {
   "cell_type": "code",
   "execution_count": 10,
   "metadata": {
    "collapsed": false
   },
   "outputs": [
    {
     "data": {
      "text/plain": [
       "[2, 10, 4, 40, 92, 352, 724, 2680, 14200]"
      ]
     },
     "execution_count": 10,
     "metadata": {},
     "output_type": "execute_result"
    }
   ],
   "source": [
    "solutions"
   ]
  },
  {
   "cell_type": "code",
   "execution_count": 14,
   "metadata": {
    "collapsed": false
   },
   "outputs": [
    {
     "data": {
      "text/plain": [
       "<matplotlib.figure.Figure at 0x7fc61c154910>"
      ]
     },
     "metadata": {},
     "output_type": "display_data"
    },
    {
     "data": {
      "image/png": "[encoded data removed]",
      "text/plain": [
       "<matplotlib.figure.Figure at 0x7fc61c154350>"
      ]
     },
     "metadata": {},
     "output_type": "display_data"
    }
   ],
   "source": [
    "plt.subplots_adjust(hspace=0.4)\n",
    "plt.figure(figsize=(15,10))\n",
    "\n",
    "# log y axis\n",
    "plt.subplot(221)\n",
    "plt.semilogy(ns, solutions)\n",
    "plt.title('No. of solutions')\n",
    "plt.grid(True)\n",
    "\n",
    "# log x axis\n",
    "plt.subplot(222)\n",
    "plt.semilogy(ns, unique_solutions)\n",
    "plt.title('No. of unique solutions')\n",
    "plt.grid(True)\n",
    "\n",
    "\n",
    "plt.show()"
   ]
  },
  {
   "cell_type": "code",
   "execution_count": 12,
   "metadata": {
    "collapsed": false
   },
   "outputs": [
    {
     "data": {
      "image/png": "[encoded data removed]",
      "text/plain": [
       "<matplotlib.figure.Figure at 0x7fc61e902210>"
      ]
     },
     "metadata": {},
     "output_type": "display_data"
    }
   ],
   "source": [
    "plt.subplot(111)\n",
    "plt.plot(ns, cnfs)\n",
    "plt.grid(True)\n",
    "plt.title(\"No. of cnf clauses\")\n",
    "plt.show()"
   ]
  },
  {
   "cell_type": "markdown",
   "metadata": {},
   "source": [
    "####Obserwacje:  "
   ]
  },
  {
   "cell_type": "markdown",
   "metadata": {
    "collapsed": true
   },
   "source": [
    "Liczba rozwiązań rośnie wykładniczo, w tym rozwiązania unikalne."
   ]
  },
  {
   "cell_type": "markdown",
   "metadata": {},
   "source": [
    "Liczba zdań logicznych rośnie kwadratowo"
   ]
  },
  {
   "cell_type": "markdown",
   "metadata": {},
   "source": [
    "Liczba rozwiązań dla n=5 jest większa niż dla n=6"
   ]
  },
  {
   "cell_type": "markdown",
   "metadata": {},
   "source": [
    "####Co można zrobić jeszcze?"
   ]
  },
  {
   "cell_type": "markdown",
   "metadata": {},
   "source": [
    "Można zmniejszyć liczbę klauzul. Można to osiągnąć poprzez redukcję dwóch klauzul, w których występuje ta sama zmienna x, ale w jednej z nich jest zanegowana. W naszym problemie jak najbardziej takie pary klauzul występują."
   ]
  },
  {
   "cell_type": "markdown",
   "metadata": {},
   "source": [
    "Zakodzić dodatkowy wiąz na hetmany nie stojące na polach różniących się o ruch skoczka szachowego. We wszystkich rozwiązaniach dla małego n hetmany właśnie na takich pozycjach stoją, to byłoby ciekawe odpowiedzieć na pytanie, czy takie rozwiązania w ogóle by istniały, a jeśli tak, to ile i jak szybko by rosły."
   ]
  },
  {
   "cell_type": "code",
   "execution_count": null,
   "metadata": {
    "collapsed": true
   },
   "outputs": [],
   "source": []
  }
 ],
 "metadata": {
  "kernelspec": {
   "display_name": "Python 2",
   "language": "python",
   "name": "python2"
  },
  "language_info": {
   "codemirror_mode": {
    "name": "ipython",
    "version": 2
   },
   "file_extension": ".py",
   "mimetype": "text/x-python",
   "name": "python",
   "nbconvert_exporter": "python",
   "pygments_lexer": "ipython2",
   "version": "2.7.12"
  }
 },
 "nbformat": 4,
 "nbformat_minor": 2
}
